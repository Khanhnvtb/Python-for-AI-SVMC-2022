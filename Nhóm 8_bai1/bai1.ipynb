{
 "cells": [
  {
   "cell_type": "code",
   "execution_count": 1,
   "metadata": {},
   "outputs": [
    {
     "data": {
      "text/html": [
       "<div>\n",
       "<style scoped>\n",
       "    .dataframe tbody tr th:only-of-type {\n",
       "        vertical-align: middle;\n",
       "    }\n",
       "\n",
       "    .dataframe tbody tr th {\n",
       "        vertical-align: top;\n",
       "    }\n",
       "\n",
       "    .dataframe thead th {\n",
       "        text-align: right;\n",
       "    }\n",
       "</style>\n",
       "<table border=\"1\" class=\"dataframe\">\n",
       "  <thead>\n",
       "    <tr style=\"text-align: right;\">\n",
       "      <th></th>\n",
       "      <th>X1</th>\n",
       "      <th>X2</th>\n",
       "      <th>X3</th>\n",
       "      <th>X4</th>\n",
       "      <th>X5</th>\n",
       "      <th>X6</th>\n",
       "      <th>X7</th>\n",
       "      <th>X8</th>\n",
       "      <th>X9</th>\n",
       "      <th>X10</th>\n",
       "      <th>X11</th>\n",
       "      <th>Class</th>\n",
       "    </tr>\n",
       "  </thead>\n",
       "  <tbody>\n",
       "    <tr>\n",
       "      <th>0</th>\n",
       "      <td>Male</td>\n",
       "      <td>Yes</td>\n",
       "      <td>0.0</td>\n",
       "      <td>Graduate</td>\n",
       "      <td>No</td>\n",
       "      <td>6000.0</td>\n",
       "      <td>2250.0</td>\n",
       "      <td>265.0</td>\n",
       "      <td>360.0</td>\n",
       "      <td>NaN</td>\n",
       "      <td>Semiurban</td>\n",
       "      <td>N</td>\n",
       "    </tr>\n",
       "    <tr>\n",
       "      <th>1</th>\n",
       "      <td>Male</td>\n",
       "      <td>Yes</td>\n",
       "      <td>0.0</td>\n",
       "      <td>Graduate</td>\n",
       "      <td>No</td>\n",
       "      <td>2958.0</td>\n",
       "      <td>2900.0</td>\n",
       "      <td>131.0</td>\n",
       "      <td>360.0</td>\n",
       "      <td>1.0</td>\n",
       "      <td>Semiurban</td>\n",
       "      <td>Y</td>\n",
       "    </tr>\n",
       "    <tr>\n",
       "      <th>2</th>\n",
       "      <td>Male</td>\n",
       "      <td>Yes</td>\n",
       "      <td>2.0</td>\n",
       "      <td>Graduate</td>\n",
       "      <td>No</td>\n",
       "      <td>6250.0</td>\n",
       "      <td>1695.0</td>\n",
       "      <td>210.0</td>\n",
       "      <td>360.0</td>\n",
       "      <td>1.0</td>\n",
       "      <td>Semiurban</td>\n",
       "      <td>Y</td>\n",
       "    </tr>\n",
       "    <tr>\n",
       "      <th>3</th>\n",
       "      <td>Male</td>\n",
       "      <td>Yes</td>\n",
       "      <td>0.0</td>\n",
       "      <td>Graduate</td>\n",
       "      <td>No</td>\n",
       "      <td>2083.0</td>\n",
       "      <td>3150.0</td>\n",
       "      <td>128.0</td>\n",
       "      <td>360.0</td>\n",
       "      <td>1.0</td>\n",
       "      <td>Semiurban</td>\n",
       "      <td>Y</td>\n",
       "    </tr>\n",
       "    <tr>\n",
       "      <th>4</th>\n",
       "      <td>Male</td>\n",
       "      <td>No</td>\n",
       "      <td>0.0</td>\n",
       "      <td>Graduate</td>\n",
       "      <td>No</td>\n",
       "      <td>4166.0</td>\n",
       "      <td>0.0</td>\n",
       "      <td>98.0</td>\n",
       "      <td>360.0</td>\n",
       "      <td>0.0</td>\n",
       "      <td>Semiurban</td>\n",
       "      <td>N</td>\n",
       "    </tr>\n",
       "    <tr>\n",
       "      <th>...</th>\n",
       "      <td>...</td>\n",
       "      <td>...</td>\n",
       "      <td>...</td>\n",
       "      <td>...</td>\n",
       "      <td>...</td>\n",
       "      <td>...</td>\n",
       "      <td>...</td>\n",
       "      <td>...</td>\n",
       "      <td>...</td>\n",
       "      <td>...</td>\n",
       "      <td>...</td>\n",
       "      <td>...</td>\n",
       "    </tr>\n",
       "    <tr>\n",
       "      <th>486</th>\n",
       "      <td>Male</td>\n",
       "      <td>Yes</td>\n",
       "      <td>2.0</td>\n",
       "      <td>Not Graduate</td>\n",
       "      <td>Yes</td>\n",
       "      <td>1875.0</td>\n",
       "      <td>1875.0</td>\n",
       "      <td>97.0</td>\n",
       "      <td>360.0</td>\n",
       "      <td>1.0</td>\n",
       "      <td>Semiurban</td>\n",
       "      <td>Y</td>\n",
       "    </tr>\n",
       "    <tr>\n",
       "      <th>487</th>\n",
       "      <td>Male</td>\n",
       "      <td>Yes</td>\n",
       "      <td>2.0</td>\n",
       "      <td>Graduate</td>\n",
       "      <td>No</td>\n",
       "      <td>11417.0</td>\n",
       "      <td>1126.0</td>\n",
       "      <td>225.0</td>\n",
       "      <td>360.0</td>\n",
       "      <td>1.0</td>\n",
       "      <td>Urban</td>\n",
       "      <td>Y</td>\n",
       "    </tr>\n",
       "    <tr>\n",
       "      <th>488</th>\n",
       "      <td>Female</td>\n",
       "      <td>No</td>\n",
       "      <td>0.0</td>\n",
       "      <td>Graduate</td>\n",
       "      <td>No</td>\n",
       "      <td>3237.0</td>\n",
       "      <td>0.0</td>\n",
       "      <td>30.0</td>\n",
       "      <td>360.0</td>\n",
       "      <td>1.0</td>\n",
       "      <td>Urban</td>\n",
       "      <td>Y</td>\n",
       "    </tr>\n",
       "    <tr>\n",
       "      <th>489</th>\n",
       "      <td>Female</td>\n",
       "      <td>NaN</td>\n",
       "      <td>NaN</td>\n",
       "      <td>Graduate</td>\n",
       "      <td>No</td>\n",
       "      <td>10047.0</td>\n",
       "      <td>0.0</td>\n",
       "      <td>NaN</td>\n",
       "      <td>240.0</td>\n",
       "      <td>1.0</td>\n",
       "      <td>Semiurban</td>\n",
       "      <td>Y</td>\n",
       "    </tr>\n",
       "    <tr>\n",
       "      <th>490</th>\n",
       "      <td>Male</td>\n",
       "      <td>Yes</td>\n",
       "      <td>NaN</td>\n",
       "      <td>Graduate</td>\n",
       "      <td>No</td>\n",
       "      <td>13650.0</td>\n",
       "      <td>0.0</td>\n",
       "      <td>NaN</td>\n",
       "      <td>360.0</td>\n",
       "      <td>1.0</td>\n",
       "      <td>Urban</td>\n",
       "      <td>Y</td>\n",
       "    </tr>\n",
       "  </tbody>\n",
       "</table>\n",
       "<p>491 rows × 12 columns</p>\n",
       "</div>"
      ],
      "text/plain": [
       "         X1   X2   X3            X4   X5       X6      X7     X8     X9  X10  \\\n",
       "0      Male  Yes  0.0      Graduate   No   6000.0  2250.0  265.0  360.0  NaN   \n",
       "1      Male  Yes  0.0      Graduate   No   2958.0  2900.0  131.0  360.0  1.0   \n",
       "2      Male  Yes  2.0      Graduate   No   6250.0  1695.0  210.0  360.0  1.0   \n",
       "3      Male  Yes  0.0      Graduate   No   2083.0  3150.0  128.0  360.0  1.0   \n",
       "4      Male   No  0.0      Graduate   No   4166.0     0.0   98.0  360.0  0.0   \n",
       "..      ...  ...  ...           ...  ...      ...     ...    ...    ...  ...   \n",
       "486    Male  Yes  2.0  Not Graduate  Yes   1875.0  1875.0   97.0  360.0  1.0   \n",
       "487    Male  Yes  2.0      Graduate   No  11417.0  1126.0  225.0  360.0  1.0   \n",
       "488  Female   No  0.0      Graduate   No   3237.0     0.0   30.0  360.0  1.0   \n",
       "489  Female  NaN  NaN      Graduate   No  10047.0     0.0    NaN  240.0  1.0   \n",
       "490    Male  Yes  NaN      Graduate   No  13650.0     0.0    NaN  360.0  1.0   \n",
       "\n",
       "           X11 Class  \n",
       "0    Semiurban     N  \n",
       "1    Semiurban     Y  \n",
       "2    Semiurban     Y  \n",
       "3    Semiurban     Y  \n",
       "4    Semiurban     N  \n",
       "..         ...   ...  \n",
       "486  Semiurban     Y  \n",
       "487      Urban     Y  \n",
       "488      Urban     Y  \n",
       "489  Semiurban     Y  \n",
       "490      Urban     Y  \n",
       "\n",
       "[491 rows x 12 columns]"
      ]
     },
     "execution_count": 1,
     "metadata": {},
     "output_type": "execute_result"
    }
   ],
   "source": [
    "import pandas as pd\n",
    "\n",
    "df = pd.read_excel('Train_samsung.xlsx')\n",
    "df"
   ]
  },
  {
   "cell_type": "code",
   "execution_count": 2,
   "metadata": {},
   "outputs": [
    {
     "data": {
      "text/plain": [
       "X1       12\n",
       "X2        1\n",
       "X3       11\n",
       "X4        0\n",
       "X5       24\n",
       "X6        0\n",
       "X7        0\n",
       "X8       16\n",
       "X9       12\n",
       "X10      40\n",
       "X11       0\n",
       "Class     0\n",
       "dtype: int64"
      ]
     },
     "execution_count": 2,
     "metadata": {},
     "output_type": "execute_result"
    }
   ],
   "source": [
    "#kiểm tra missing data\n",
    "df.isna().sum()"
   ]
  },
  {
   "cell_type": "code",
   "execution_count": 3,
   "metadata": {},
   "outputs": [
    {
     "data": {
      "text/plain": [
       "Male      386\n",
       "Female     93\n",
       "Name: X1, dtype: int64"
      ]
     },
     "execution_count": 3,
     "metadata": {},
     "output_type": "execute_result"
    }
   ],
   "source": [
    "df['X1'].value_counts()"
   ]
  },
  {
   "cell_type": "code",
   "execution_count": 4,
   "metadata": {},
   "outputs": [
    {
     "data": {
      "text/plain": [
       "0"
      ]
     },
     "execution_count": 4,
     "metadata": {},
     "output_type": "execute_result"
    }
   ],
   "source": [
    "df['X1'].fillna('Male', inplace=True)\n",
    "df['X1'].isna().sum()"
   ]
  },
  {
   "cell_type": "code",
   "execution_count": 5,
   "metadata": {},
   "outputs": [
    {
     "data": {
      "text/plain": [
       "0      1\n",
       "1      1\n",
       "2      1\n",
       "3      1\n",
       "4      1\n",
       "      ..\n",
       "486    1\n",
       "487    1\n",
       "488    0\n",
       "489    0\n",
       "490    1\n",
       "Name: X1, Length: 491, dtype: int64"
      ]
     },
     "execution_count": 5,
     "metadata": {},
     "output_type": "execute_result"
    }
   ],
   "source": [
    "df['X1'].replace('Male', 1, inplace=True)\n",
    "df['X1'].replace('Female', 0, inplace=True)\n",
    "df['X1']"
   ]
  },
  {
   "cell_type": "code",
   "execution_count": 6,
   "metadata": {},
   "outputs": [
    {
     "data": {
      "text/plain": [
       "Yes    311\n",
       "No     179\n",
       "Name: X2, dtype: int64"
      ]
     },
     "execution_count": 6,
     "metadata": {},
     "output_type": "execute_result"
    }
   ],
   "source": [
    "df['X2'].value_counts()"
   ]
  },
  {
   "cell_type": "code",
   "execution_count": 7,
   "metadata": {},
   "outputs": [
    {
     "data": {
      "text/plain": [
       "0"
      ]
     },
     "execution_count": 7,
     "metadata": {},
     "output_type": "execute_result"
    }
   ],
   "source": [
    "df['X2'].fillna('Yes', inplace=True)\n",
    "df['X2'].isna().sum()"
   ]
  },
  {
   "cell_type": "code",
   "execution_count": 8,
   "metadata": {},
   "outputs": [
    {
     "data": {
      "text/plain": [
       "0      1\n",
       "1      1\n",
       "2      1\n",
       "3      1\n",
       "4      0\n",
       "      ..\n",
       "486    1\n",
       "487    1\n",
       "488    0\n",
       "489    1\n",
       "490    1\n",
       "Name: X2, Length: 491, dtype: int64"
      ]
     },
     "execution_count": 8,
     "metadata": {},
     "output_type": "execute_result"
    }
   ],
   "source": [
    "df['X2'].replace('Yes', 1, inplace=True)\n",
    "df['X2'].replace('No', 0, inplace=True)\n",
    "df['X2']"
   ]
  },
  {
   "cell_type": "code",
   "execution_count": 9,
   "metadata": {},
   "outputs": [
    {
     "data": {
      "text/plain": [
       "0.0    282\n",
       "1.0     79\n",
       "2.0     78\n",
       "3+      41\n",
       "Name: X3, dtype: int64"
      ]
     },
     "execution_count": 9,
     "metadata": {},
     "output_type": "execute_result"
    }
   ],
   "source": [
    "df['X3'].value_counts()"
   ]
  },
  {
   "cell_type": "code",
   "execution_count": 10,
   "metadata": {},
   "outputs": [
    {
     "data": {
      "text/plain": [
       "0"
      ]
     },
     "execution_count": 10,
     "metadata": {},
     "output_type": "execute_result"
    }
   ],
   "source": [
    "df['X3'].fillna(0.0, inplace=True)\n",
    "df['X3'].replace('3+', 3, inplace=True)\n",
    "df['X3'].isna().sum()"
   ]
  },
  {
   "cell_type": "code",
   "execution_count": 11,
   "metadata": {},
   "outputs": [
    {
     "data": {
      "text/plain": [
       "No     400\n",
       "Yes     67\n",
       "Name: X5, dtype: int64"
      ]
     },
     "execution_count": 11,
     "metadata": {},
     "output_type": "execute_result"
    }
   ],
   "source": [
    "df['X5'].value_counts()"
   ]
  },
  {
   "cell_type": "code",
   "execution_count": 13,
   "metadata": {},
   "outputs": [
    {
     "data": {
      "text/plain": [
       "0      0\n",
       "1      0\n",
       "2      0\n",
       "3      0\n",
       "4      0\n",
       "      ..\n",
       "486    1\n",
       "487    0\n",
       "488    0\n",
       "489    0\n",
       "490    0\n",
       "Name: X5, Length: 491, dtype: int64"
      ]
     },
     "execution_count": 13,
     "metadata": {},
     "output_type": "execute_result"
    }
   ],
   "source": [
    "df['X5'].fillna('No', inplace=True)\n",
    "df['X5'].replace('Yes', 1, inplace=True)\n",
    "df['X5'].replace('No', 0, inplace=True)\n",
    "df['X5']"
   ]
  },
  {
   "cell_type": "code",
   "execution_count": 14,
   "metadata": {},
   "outputs": [
    {
     "data": {
      "text/plain": [
       "0    424\n",
       "1     67\n",
       "Name: X5, dtype: int64"
      ]
     },
     "execution_count": 14,
     "metadata": {},
     "output_type": "execute_result"
    }
   ],
   "source": [
    "df['X5'].value_counts()"
   ]
  },
  {
   "cell_type": "code",
   "execution_count": 15,
   "metadata": {},
   "outputs": [
    {
     "data": {
      "text/plain": [
       "149"
      ]
     },
     "execution_count": 15,
     "metadata": {},
     "output_type": "execute_result"
    }
   ],
   "source": [
    "s = 0\n",
    "for i in df['X8']:\n",
    "    if(pd.isna(i)):\n",
    "        continue\n",
    "    else:\n",
    "        s += i\n",
    "s = s / (len(df['X8']) - df['X8'].isna().sum())\n",
    "s = int(s + 0.5)\n",
    "s"
   ]
  },
  {
   "cell_type": "code",
   "execution_count": 16,
   "metadata": {},
   "outputs": [
    {
     "data": {
      "text/plain": [
       "0"
      ]
     },
     "execution_count": 16,
     "metadata": {},
     "output_type": "execute_result"
    }
   ],
   "source": [
    "df['X8'].fillna(s, inplace=True)\n",
    "df['X8'].isna().sum()"
   ]
  },
  {
   "cell_type": "code",
   "execution_count": 17,
   "metadata": {},
   "outputs": [
    {
     "data": {
      "text/plain": [
       "340"
      ]
     },
     "execution_count": 17,
     "metadata": {},
     "output_type": "execute_result"
    }
   ],
   "source": [
    "s = 0\n",
    "for i in df['X9']:\n",
    "    if(pd.isna(i)):\n",
    "        continue\n",
    "    else:\n",
    "        s += i\n",
    "s = s / (len(df['X9']) - df['X9'].isna().sum())\n",
    "s = int(s + 0.5)\n",
    "s"
   ]
  },
  {
   "cell_type": "code",
   "execution_count": 18,
   "metadata": {},
   "outputs": [
    {
     "data": {
      "text/plain": [
       "0"
      ]
     },
     "execution_count": 18,
     "metadata": {},
     "output_type": "execute_result"
    }
   ],
   "source": [
    "df['X9'].fillna(s, inplace=True)\n",
    "df['X9'].isna().sum()"
   ]
  },
  {
   "cell_type": "code",
   "execution_count": 19,
   "metadata": {},
   "outputs": [
    {
     "data": {
      "text/plain": [
       "1.0    381\n",
       "0.0     70\n",
       "Name: X10, dtype: int64"
      ]
     },
     "execution_count": 19,
     "metadata": {},
     "output_type": "execute_result"
    }
   ],
   "source": [
    "df['X10'].value_counts()"
   ]
  },
  {
   "cell_type": "code",
   "execution_count": 20,
   "metadata": {},
   "outputs": [
    {
     "data": {
      "text/plain": [
       "0      1.0\n",
       "1      1.0\n",
       "2      1.0\n",
       "3      1.0\n",
       "4      0.0\n",
       "      ... \n",
       "486    1.0\n",
       "487    1.0\n",
       "488    1.0\n",
       "489    1.0\n",
       "490    1.0\n",
       "Name: X10, Length: 491, dtype: float64"
      ]
     },
     "execution_count": 20,
     "metadata": {},
     "output_type": "execute_result"
    }
   ],
   "source": [
    "df['X10'].fillna(1.0, inplace =True)\n",
    "df['X10']"
   ]
  },
  {
   "cell_type": "code",
   "execution_count": 21,
   "metadata": {},
   "outputs": [
    {
     "data": {
      "text/plain": [
       "0"
      ]
     },
     "execution_count": 21,
     "metadata": {},
     "output_type": "execute_result"
    }
   ],
   "source": [
    "df['X10'].isna().sum()"
   ]
  },
  {
   "cell_type": "code",
   "execution_count": 22,
   "metadata": {},
   "outputs": [
    {
     "data": {
      "text/plain": [
       "X1       0\n",
       "X2       0\n",
       "X3       0\n",
       "X4       0\n",
       "X5       0\n",
       "X6       0\n",
       "X7       0\n",
       "X8       0\n",
       "X9       0\n",
       "X10      0\n",
       "X11      0\n",
       "Class    0\n",
       "dtype: int64"
      ]
     },
     "execution_count": 22,
     "metadata": {},
     "output_type": "execute_result"
    }
   ],
   "source": [
    "df.isna().sum()"
   ]
  },
  {
   "cell_type": "code",
   "execution_count": 23,
   "metadata": {},
   "outputs": [
    {
     "data": {
      "text/plain": [
       "0      1\n",
       "1      1\n",
       "2      1\n",
       "3      1\n",
       "4      1\n",
       "      ..\n",
       "486    0\n",
       "487    1\n",
       "488    1\n",
       "489    1\n",
       "490    1\n",
       "Name: X4, Length: 491, dtype: int64"
      ]
     },
     "execution_count": 23,
     "metadata": {},
     "output_type": "execute_result"
    }
   ],
   "source": [
    "df['X4'].replace('Graduate', 1, inplace=True)\n",
    "df['X4'].replace('Not Graduate', 0, inplace=True)\n",
    "df['X4']"
   ]
  },
  {
   "cell_type": "code",
   "execution_count": 24,
   "metadata": {},
   "outputs": [
    {
     "data": {
      "text/plain": [
       "Semiurban    191\n",
       "Urban        159\n",
       "Rural        141\n",
       "Name: X11, dtype: int64"
      ]
     },
     "execution_count": 24,
     "metadata": {},
     "output_type": "execute_result"
    }
   ],
   "source": [
    "df['X11'].value_counts()"
   ]
  },
  {
   "cell_type": "code",
   "execution_count": 25,
   "metadata": {},
   "outputs": [
    {
     "data": {
      "text/plain": [
       "1    191\n",
       "2    159\n",
       "3    141\n",
       "Name: X11, dtype: int64"
      ]
     },
     "execution_count": 25,
     "metadata": {},
     "output_type": "execute_result"
    }
   ],
   "source": [
    "df['X11'].replace('Semiurban', 1, inplace=True)\n",
    "df['X11'].replace('Urban', 2, inplace=True)\n",
    "df['X11'].replace('Rural', 3, inplace=True)\n",
    "df['X11'].value_counts()"
   ]
  },
  {
   "cell_type": "code",
   "execution_count": 26,
   "metadata": {},
   "outputs": [
    {
     "data": {
      "text/plain": [
       "1    342\n",
       "0    149\n",
       "Name: Class, dtype: int64"
      ]
     },
     "execution_count": 26,
     "metadata": {},
     "output_type": "execute_result"
    }
   ],
   "source": [
    "df['Class'].replace('Y', 1, inplace=True)\n",
    "df['Class'].replace('N', 0, inplace=True)\n",
    "df['Class'].value_counts()"
   ]
  },
  {
   "cell_type": "code",
   "execution_count": 247,
   "metadata": {},
   "outputs": [],
   "source": [
    "# df.to_excel('train.xlsx', index=False)"
   ]
  },
  {
   "cell_type": "code",
   "execution_count": 29,
   "metadata": {},
   "outputs": [
    {
     "data": {
      "text/plain": [
       "0.7171717171717171"
      ]
     },
     "execution_count": 29,
     "metadata": {},
     "output_type": "execute_result"
    }
   ],
   "source": [
    "df_train = df.copy().sample(frac = 1, replace=True)\n",
    "df_train.reset_index(inplace = True)\n",
    "df_train.drop(['index'], axis=1, inplace=True)\n",
    "X = df_train.drop('Class', axis=1)\n",
    "Y = df_train['Class']\n",
    "thread_point = int(0.8 * df_train.shape[0])\n",
    "x_train, x_test = X[:thread_point], X[thread_point:]\n",
    "y_train, y_test = Y[:thread_point], Y[thread_point:]\n",
    "\n",
    "from sklearn.linear_model import LogisticRegression\n",
    "\n",
    "model = LogisticRegression()\n",
    "model.fit(x_train, y_train)\n",
    "\n",
    "model.score(x_test, y_test)"
   ]
  },
  {
   "cell_type": "code",
   "execution_count": 30,
   "metadata": {},
   "outputs": [
    {
     "name": "stdout",
     "output_type": "stream",
     "text": [
      "1.0\n",
      "0.9191919191919192\n"
     ]
    }
   ],
   "source": [
    "from sklearn.metrics import accuracy_score\n",
    "from sklearn.tree import DecisionTreeClassifier\n",
    "  \n",
    "model = DecisionTreeClassifier()\n",
    "model.fit(x_train, y_train)\n",
    "  \n",
    "print(accuracy_score(y_train, model.predict(x_train)))\n",
    "print(accuracy_score(y_test, model.predict(x_test)))"
   ]
  },
  {
   "cell_type": "code",
   "execution_count": 33,
   "metadata": {},
   "outputs": [
    {
     "data": {
      "text/plain": [
       "(     X1  X2   X3  X4  X5       X6      X7     X8     X9  X10  X11\n",
       " 0     1   1  0.0   1   0   6000.0  2250.0  265.0  360.0  1.0    1\n",
       " 1     1   1  0.0   1   0   2958.0  2900.0  131.0  360.0  1.0    1\n",
       " 2     1   1  2.0   1   0   6250.0  1695.0  210.0  360.0  1.0    1\n",
       " 3     1   1  0.0   1   0   2083.0  3150.0  128.0  360.0  1.0    1\n",
       " 4     1   0  0.0   1   0   4166.0     0.0   98.0  360.0  0.0    1\n",
       " ..   ..  ..  ...  ..  ..      ...     ...    ...    ...  ...  ...\n",
       " 486   1   1  2.0   0   1   1875.0  1875.0   97.0  360.0  1.0    1\n",
       " 487   1   1  2.0   1   0  11417.0  1126.0  225.0  360.0  1.0    2\n",
       " 488   0   0  0.0   1   0   3237.0     0.0   30.0  360.0  1.0    2\n",
       " 489   0   1  0.0   1   0  10047.0     0.0  149.0  240.0  1.0    1\n",
       " 490   1   1  0.0   1   0  13650.0     0.0  149.0  360.0  1.0    2\n",
       " \n",
       " [491 rows x 11 columns],\n",
       " 0      0\n",
       " 1      1\n",
       " 2      1\n",
       " 3      1\n",
       " 4      0\n",
       "       ..\n",
       " 486    1\n",
       " 487    1\n",
       " 488    1\n",
       " 489    1\n",
       " 490    1\n",
       " Name: Class, Length: 491, dtype: int64,\n",
       "          X1   X2   X3        X4   X5       X6      X7     X8     X9  X10  \\\n",
       " 0      Male  Yes  0.0  Graduate   No   9083.0     0.0  228.0  360.0  1.0   \n",
       " 1      Male  Yes  0.0  Graduate   No   4310.0     0.0  130.0  360.0  NaN   \n",
       " 2      Male  Yes  2.0  Graduate   No   4167.0  1447.0  158.0  360.0  1.0   \n",
       " 3    Female   No  0.0  Graduate   No   2900.0     0.0   71.0  360.0  1.0   \n",
       " 4      Male   No  0.0  Graduate   No   2718.0     0.0   70.0  360.0  1.0   \n",
       " ..      ...  ...  ...       ...  ...      ...     ...    ...    ...  ...   \n",
       " 118    Male  Yes  0.0  Graduate  NaN   3716.0     0.0   42.0  180.0  1.0   \n",
       " 119  Female   No  0.0  Graduate   No   2507.0     0.0   56.0  360.0  1.0   \n",
       " 120    Male  Yes  1.0  Graduate   No   2882.0  1843.0  123.0  480.0  1.0   \n",
       " 121    Male  Yes  2.0  Graduate  NaN   2500.0  1840.0  109.0  360.0  1.0   \n",
       " 122    Male  Yes  0.0  Graduate  NaN  63337.0     0.0  490.0  180.0  1.0   \n",
       " \n",
       "            X11  \n",
       " 0    Semiurban  \n",
       " 1    Semiurban  \n",
       " 2        Rural  \n",
       " 3        Rural  \n",
       " 4    Semiurban  \n",
       " ..         ...  \n",
       " 118      Rural  \n",
       " 119      Rural  \n",
       " 120  Semiurban  \n",
       " 121      Urban  \n",
       " 122      Urban  \n",
       " \n",
       " [123 rows x 11 columns])"
      ]
     },
     "execution_count": 33,
     "metadata": {},
     "output_type": "execute_result"
    }
   ],
   "source": [
    "#Do DecisionTree cho tỉ lệ dự đoán cao hơn nên chọn DecisionTree để dự đoán\n",
    "x_train = df.drop('Class', axis=1)\n",
    "y_train = df['Class']\n",
    "x_test = pd.read_excel('Test_samsung_noclass.xlsx')\n",
    "x_train, y_train, x_test"
   ]
  },
  {
   "cell_type": "code",
   "execution_count": 34,
   "metadata": {},
   "outputs": [
    {
     "data": {
      "text/plain": [
       "X1      1\n",
       "X2      2\n",
       "X3      4\n",
       "X4      0\n",
       "X5      8\n",
       "X6      0\n",
       "X7      0\n",
       "X8      6\n",
       "X9      2\n",
       "X10    10\n",
       "X11     0\n",
       "dtype: int64"
      ]
     },
     "execution_count": 34,
     "metadata": {},
     "output_type": "execute_result"
    }
   ],
   "source": [
    "x_test.isna().sum()"
   ]
  },
  {
   "cell_type": "code",
   "execution_count": 35,
   "metadata": {},
   "outputs": [
    {
     "data": {
      "text/plain": [
       "0      1\n",
       "1      1\n",
       "2      1\n",
       "3      0\n",
       "4      1\n",
       "      ..\n",
       "118    1\n",
       "119    0\n",
       "120    1\n",
       "121    1\n",
       "122    1\n",
       "Name: X1, Length: 123, dtype: int64"
      ]
     },
     "execution_count": 35,
     "metadata": {},
     "output_type": "execute_result"
    }
   ],
   "source": [
    "x_test['X1'].fillna('Male', inplace = True)\n",
    "x_test['X1'].replace('Male', 1, inplace=True)\n",
    "x_test['X1'].replace('Female', 0, inplace=True)\n",
    "x_test['X1']"
   ]
  },
  {
   "cell_type": "code",
   "execution_count": 36,
   "metadata": {},
   "outputs": [
    {
     "data": {
      "text/plain": [
       "1    89\n",
       "0    34\n",
       "Name: X2, dtype: int64"
      ]
     },
     "execution_count": 36,
     "metadata": {},
     "output_type": "execute_result"
    }
   ],
   "source": [
    "x_test['X2'].fillna('Yes', inplace=True)\n",
    "x_test['X2'].replace('Yes', 1, inplace=True)\n",
    "x_test['X2'].replace('No', 0, inplace=True)\n",
    "x_test['X2'].value_counts()"
   ]
  },
  {
   "cell_type": "code",
   "execution_count": 37,
   "metadata": {},
   "outputs": [
    {
     "data": {
      "text/plain": [
       "0.0    67\n",
       "2.0    23\n",
       "1.0    23\n",
       "3.0    10\n",
       "Name: X3, dtype: int64"
      ]
     },
     "execution_count": 37,
     "metadata": {},
     "output_type": "execute_result"
    }
   ],
   "source": [
    "x_test['X3'].fillna(0.0, inplace=True)\n",
    "x_test['X3'].replace('3+', 3, inplace=True)\n",
    "x_test['X3'].value_counts()"
   ]
  },
  {
   "cell_type": "code",
   "execution_count": 38,
   "metadata": {},
   "outputs": [
    {
     "data": {
      "text/plain": [
       "1    98\n",
       "0    25\n",
       "Name: X4, dtype: int64"
      ]
     },
     "execution_count": 38,
     "metadata": {},
     "output_type": "execute_result"
    }
   ],
   "source": [
    "x_test['X4'].replace('Graduate', 1, inplace=True)\n",
    "x_test['X4'].replace('Not Graduate', 0, inplace=True)\n",
    "x_test['X4'].value_counts()"
   ]
  },
  {
   "cell_type": "code",
   "execution_count": 39,
   "metadata": {},
   "outputs": [
    {
     "data": {
      "text/plain": [
       "0    108\n",
       "1     15\n",
       "Name: X5, dtype: int64"
      ]
     },
     "execution_count": 39,
     "metadata": {},
     "output_type": "execute_result"
    }
   ],
   "source": [
    "x_test['X5'].fillna('No', inplace=True)\n",
    "x_test['X5'].replace('Yes', 1, inplace=True)\n",
    "x_test['X5'].replace('No', 0, inplace=True)\n",
    "x_test['X5'].value_counts()"
   ]
  },
  {
   "cell_type": "code",
   "execution_count": 40,
   "metadata": {},
   "outputs": [
    {
     "data": {
      "text/plain": [
       "149.0    7\n",
       "110.0    6\n",
       "120.0    5\n",
       "95.0     4\n",
       "112.0    2\n",
       "        ..\n",
       "74.0     1\n",
       "155.0    1\n",
       "136.0    1\n",
       "167.0    1\n",
       "490.0    1\n",
       "Name: X8, Length: 88, dtype: int64"
      ]
     },
     "execution_count": 40,
     "metadata": {},
     "output_type": "execute_result"
    }
   ],
   "source": [
    "x_test['X8'].fillna(149, inplace=True)\n",
    "x_test['X8'].value_counts()"
   ]
  },
  {
   "cell_type": "code",
   "execution_count": 41,
   "metadata": {},
   "outputs": [
    {
     "data": {
      "text/plain": [
       "360.0    107\n",
       "180.0      7\n",
       "480.0      3\n",
       "300.0      3\n",
       "340.0      2\n",
       "84.0       1\n",
       "Name: X9, dtype: int64"
      ]
     },
     "execution_count": 41,
     "metadata": {},
     "output_type": "execute_result"
    }
   ],
   "source": [
    "x_test['X9'].fillna(340, inplace=True)\n",
    "x_test['X9'].value_counts()"
   ]
  },
  {
   "cell_type": "code",
   "execution_count": 42,
   "metadata": {},
   "outputs": [
    {
     "data": {
      "text/plain": [
       "1.0    104\n",
       "0.0     19\n",
       "Name: X10, dtype: int64"
      ]
     },
     "execution_count": 42,
     "metadata": {},
     "output_type": "execute_result"
    }
   ],
   "source": [
    "x_test['X10'].fillna(1.0, inplace =True)\n",
    "x_test['X10'].value_counts()"
   ]
  },
  {
   "cell_type": "code",
   "execution_count": 43,
   "metadata": {},
   "outputs": [
    {
     "data": {
      "text/plain": [
       "2    43\n",
       "1    42\n",
       "3    38\n",
       "Name: X11, dtype: int64"
      ]
     },
     "execution_count": 43,
     "metadata": {},
     "output_type": "execute_result"
    }
   ],
   "source": [
    "x_test['X11'].replace('Semiurban', 1, inplace=True)\n",
    "x_test['X11'].replace('Urban', 2, inplace=True)\n",
    "x_test['X11'].replace('Rural', 3, inplace=True)\n",
    "x_test['X11'].value_counts()"
   ]
  },
  {
   "cell_type": "code",
   "execution_count": 44,
   "metadata": {},
   "outputs": [
    {
     "data": {
      "text/plain": [
       "DecisionTreeClassifier()"
      ]
     },
     "execution_count": 44,
     "metadata": {},
     "output_type": "execute_result"
    }
   ],
   "source": [
    "model = DecisionTreeClassifier()\n",
    "model.fit(x_train, y_train)"
   ]
  },
  {
   "cell_type": "code",
   "execution_count": 45,
   "metadata": {},
   "outputs": [
    {
     "data": {
      "text/html": [
       "<div>\n",
       "<style scoped>\n",
       "    .dataframe tbody tr th:only-of-type {\n",
       "        vertical-align: middle;\n",
       "    }\n",
       "\n",
       "    .dataframe tbody tr th {\n",
       "        vertical-align: top;\n",
       "    }\n",
       "\n",
       "    .dataframe thead th {\n",
       "        text-align: right;\n",
       "    }\n",
       "</style>\n",
       "<table border=\"1\" class=\"dataframe\">\n",
       "  <thead>\n",
       "    <tr style=\"text-align: right;\">\n",
       "      <th></th>\n",
       "      <th>Class</th>\n",
       "    </tr>\n",
       "  </thead>\n",
       "  <tbody>\n",
       "    <tr>\n",
       "      <th>0</th>\n",
       "      <td>Y</td>\n",
       "    </tr>\n",
       "    <tr>\n",
       "      <th>1</th>\n",
       "      <td>Y</td>\n",
       "    </tr>\n",
       "    <tr>\n",
       "      <th>2</th>\n",
       "      <td>Y</td>\n",
       "    </tr>\n",
       "    <tr>\n",
       "      <th>3</th>\n",
       "      <td>N</td>\n",
       "    </tr>\n",
       "    <tr>\n",
       "      <th>4</th>\n",
       "      <td>Y</td>\n",
       "    </tr>\n",
       "    <tr>\n",
       "      <th>...</th>\n",
       "      <td>...</td>\n",
       "    </tr>\n",
       "    <tr>\n",
       "      <th>118</th>\n",
       "      <td>Y</td>\n",
       "    </tr>\n",
       "    <tr>\n",
       "      <th>119</th>\n",
       "      <td>Y</td>\n",
       "    </tr>\n",
       "    <tr>\n",
       "      <th>120</th>\n",
       "      <td>N</td>\n",
       "    </tr>\n",
       "    <tr>\n",
       "      <th>121</th>\n",
       "      <td>Y</td>\n",
       "    </tr>\n",
       "    <tr>\n",
       "      <th>122</th>\n",
       "      <td>Y</td>\n",
       "    </tr>\n",
       "  </tbody>\n",
       "</table>\n",
       "<p>123 rows × 1 columns</p>\n",
       "</div>"
      ],
      "text/plain": [
       "    Class\n",
       "0       Y\n",
       "1       Y\n",
       "2       Y\n",
       "3       N\n",
       "4       Y\n",
       "..    ...\n",
       "118     Y\n",
       "119     Y\n",
       "120     N\n",
       "121     Y\n",
       "122     Y\n",
       "\n",
       "[123 rows x 1 columns]"
      ]
     },
     "execution_count": 45,
     "metadata": {},
     "output_type": "execute_result"
    }
   ],
   "source": [
    "y_test = model.predict(x_test)\n",
    "y_test = pd.DataFrame({'Class' : model.predict(x_test)})\n",
    "y_test['Class'].replace(1, 'Y', inplace=True)\n",
    "y_test['Class'].replace(0, 'N', inplace=True)\n",
    "y_test"
   ]
  },
  {
   "cell_type": "code",
   "execution_count": 46,
   "metadata": {},
   "outputs": [],
   "source": [
    "y_test.to_excel('predict.xlsx', index=False)"
   ]
  }
 ],
 "metadata": {
  "kernelspec": {
   "display_name": "Python 3.9.12 ('base')",
   "language": "python",
   "name": "python3"
  },
  "language_info": {
   "codemirror_mode": {
    "name": "ipython",
    "version": 3
   },
   "file_extension": ".py",
   "mimetype": "text/x-python",
   "name": "python",
   "nbconvert_exporter": "python",
   "pygments_lexer": "ipython3",
   "version": "3.9.12"
  },
  "orig_nbformat": 4,
  "vscode": {
   "interpreter": {
    "hash": "8309af08568b1a344b65e36568966bcf6bca60503ceee463ede90b7fdc110b4e"
   }
  }
 },
 "nbformat": 4,
 "nbformat_minor": 2
}
